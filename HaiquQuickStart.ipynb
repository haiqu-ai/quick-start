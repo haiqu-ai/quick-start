{
 "cells": [
  {
   "cell_type": "markdown",
   "metadata": {},
   "source": [
    "# Haiqu SDK Quick Start"
   ]
  },
  {
   "cell_type": "code",
   "execution_count": null,
   "id": "f6f928ef-755a-4d9d-9ab4-fdd1f433ce96",
   "metadata": {},
   "outputs": [],
   "source": [
    "%pip install qiskit"
   ]
  },
  {
   "cell_type": "code",
   "execution_count": null,
   "id": "98930575",
   "metadata": {},
   "outputs": [],
   "source": [
    "%pip install haiqu-sdk"
   ]
  },
  {
   "cell_type": "code",
   "execution_count": null,
   "id": "36438952",
   "metadata": {},
   "outputs": [],
   "source": [
    "import numpy as np\n",
    "from qiskit import QuantumCircuit\n",
    "from haiqu.sdk import QuantumEdge\n",
    "\n",
    "# The Quantum Circuit for preparing the quantum state |000> + i |111>\n",
    "circuit = QuantumCircuit(3)\n",
    "circuit.h(0)           # generate superpostion\n",
    "circuit.p(np.pi/2, 0)  # add quantum phase\n",
    "circuit.cx(0, 1)       # 0th-qubit-Controlled-NOT gate on 1st qubit\n",
    "circuit.cx(0, 2)       # 0th-qubit-Controlled-NOT gate on 2nd qubit\n",
    "# Add measurements\n",
    "circuit_measured = circuit.measure_all(inplace=False)\n",
    "\n",
    "h = QuantumEdge(api_access_key=\"<HAIQU_API_KEY>\")\n",
    "h.submit(circuit_measured)\n",
    "# {\n",
    "#     \"job_id\": \"JOB_ID\",\n",
    "#     \"job_url\": \"https://execution-dashboard.haiqu.ai/j/<JOB_ID>\"\n",
    "# }\n",
    "# Circuit is successfully submitted, please follow the link to Dashboard\n",
    "# to configure and run job on the Quantum Device."
   ]
  }
 ],
 "metadata": {
  "kernelspec": {
   "display_name": "Python 3 (ipykernel)",
   "language": "python",
   "name": "python3"
  },
  "language_info": {
   "codemirror_mode": {
    "name": "ipython",
    "version": 3
   },
   "file_extension": ".py",
   "mimetype": "text/x-python",
   "name": "python",
   "nbconvert_exporter": "python",
   "pygments_lexer": "ipython3",
   "version": "3.8.16"
  }
 },
 "nbformat": 4,
 "nbformat_minor": 5
}
